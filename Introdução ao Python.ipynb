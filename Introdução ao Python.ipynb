{
 "cells": [
  {
   "cell_type": "markdown",
   "metadata": {},
   "source": [
    "# Linguagem Python\n",
    "\n",
    "A linguagem Python foi criado em 1989 por Guido van Rossum no Centro de Matemática e Tecnológia da Informação (CWI, Centrum Wiskunde e Informatica), na Holanda. A ideia era que a linguagem substituísse a linguagem C e que pudesse ser de fácil entendimento e open-source. ![iamgem](https://upload.wikimedia.org/wikipedia/commons/thumb/6/66/Guido_van_Rossum_OSCON_2006.jpg/220px-Guido_van_Rossum_OSCON_2006.jpg)\n",
    "\n",
    "O nome da língua vem do gosto de seu criador pelos humoristas britânicos Monty Python.\n",
    "\n",
    "\n",
    "O principal motivo pelo qual o Python se destaca no mercado atual é o fato dele ser usado para o desenvolvimento de projetos de machine learning. \n",
    "\n",
    "**1° - Instalação da Linguagem Python**: https://python.org.br/instalacao-windows/\n",
    "\n",
    "**2° - Instalção do Anaconda (Ambiente de Desenvolvimento):** https://minerandodados.com.br/instalar-python-anaconda/\n",
    "\n",
    "*pip install jupyter* (alternativa)\n",
    "\n",
    "![title](https://www.kdnuggets.com/images/top-analytics-data-science-machine-learning-software-2019-3yrs-590.jpg)\n",
    "\n",
    "\n",
    "Fonte: [KDnuggets](https://www.kdnuggets.com/2019/05/poll-top-data-science-machine-learning-platforms.html#:~:text=Python%20continues%20to%20lead%20the,By%20Gregory%20Piatetsky%2C%20KDnuggets)."
   ]
  },
  {
   "attachments": {},
   "cell_type": "markdown",
   "metadata": {},
   "source": [
    "\n",
    "# Criando Notebooks e Configurações Iniciais \n",
    "\n",
    "\n",
    "- Lidando com o terminal - http://localhost:8888/tree\n",
    "- Criando um notebook \n",
    "- Extensão **.ipynb**\n",
    "![title](https://letscode-academy.com/blog/wp-content/uploads/2019/05/abrindo_note_2.gif)\n",
    "\n",
    "\n",
    "\n",
    "-  **Google Collaboratory:** https://colab.research.google.com/\n",
    "\n",
    "\n",
    "\n",
    "\n",
    "#### Nomear e Renomear um notebook \n",
    "\n",
    "![title](https://minerandodados.com.br/wp-content/uploads/2019/04/jupyter-notebook-rename.png)\n",
    "\n"
   ]
  },
  {
   "cell_type": "markdown",
   "metadata": {},
   "source": [
    "# Menus\n",
    "![title](https://miro.medium.com/max/2000/1*mmNctN-nanlGt3cl3ASDVw.png)"
   ]
  },
  {
   "cell_type": "markdown",
   "metadata": {},
   "source": [
    "# Escrevendo Códigos nas Células "
   ]
  },
  {
   "cell_type": "markdown",
   "metadata": {},
   "source": [
    "#### Comentários\n",
    "\n",
    "Utilize #"
   ]
  },
  {
   "cell_type": "code",
   "execution_count": 34,
   "metadata": {},
   "outputs": [
    {
     "data": {
      "text/plain": [
       "'\\nEsse é um comentário maior \\nDe lá até aqui é um comentário\\n\\n'"
      ]
     },
     "execution_count": 34,
     "metadata": {},
     "output_type": "execute_result"
    }
   ],
   "source": [
    "# Esse é um comentário\n",
    "\n",
    "\"\"\"\n",
    "Esse é um comentário maior \n",
    "De lá até aqui é um comentário\n",
    "\n",
    "\"\"\""
   ]
  },
  {
   "cell_type": "markdown",
   "metadata": {},
   "source": [
    "#### Números"
   ]
  },
  {
   "cell_type": "code",
   "execution_count": 35,
   "metadata": {},
   "outputs": [
    {
     "data": {
      "text/plain": [
       "1"
      ]
     },
     "execution_count": 35,
     "metadata": {},
     "output_type": "execute_result"
    }
   ],
   "source": [
    "1"
   ]
  },
  {
   "cell_type": "code",
   "execution_count": 36,
   "metadata": {},
   "outputs": [
    {
     "data": {
      "text/plain": [
       "(1, 1)"
      ]
     },
     "execution_count": 36,
     "metadata": {},
     "output_type": "execute_result"
    }
   ],
   "source": [
    "# Número com vírgula - elementos diferentes \n",
    "1,1"
   ]
  },
  {
   "cell_type": "code",
   "execution_count": 37,
   "metadata": {},
   "outputs": [
    {
     "data": {
      "text/plain": [
       "1.1"
      ]
     },
     "execution_count": 37,
     "metadata": {},
     "output_type": "execute_result"
    }
   ],
   "source": [
    "# Núemro com ponto - utilizado para decimais \n",
    "1.1"
   ]
  },
  {
   "cell_type": "markdown",
   "metadata": {},
   "source": [
    "#### String"
   ]
  },
  {
   "cell_type": "code",
   "execution_count": 38,
   "metadata": {},
   "outputs": [
    {
     "data": {
      "text/plain": [
       "'café'"
      ]
     },
     "execution_count": 38,
     "metadata": {},
     "output_type": "execute_result"
    }
   ],
   "source": [
    "\"café\""
   ]
  },
  {
   "cell_type": "code",
   "execution_count": 39,
   "metadata": {},
   "outputs": [
    {
     "data": {
      "text/plain": [
       "'café'"
      ]
     },
     "execution_count": 39,
     "metadata": {},
     "output_type": "execute_result"
    }
   ],
   "source": [
    "'café'"
   ]
  },
  {
   "cell_type": "markdown",
   "metadata": {},
   "source": [
    "#### Valores Boleanos"
   ]
  },
  {
   "cell_type": "code",
   "execution_count": 40,
   "metadata": {},
   "outputs": [
    {
     "data": {
      "text/plain": [
       "True"
      ]
     },
     "execution_count": 40,
     "metadata": {},
     "output_type": "execute_result"
    }
   ],
   "source": [
    "True"
   ]
  },
  {
   "cell_type": "code",
   "execution_count": 41,
   "metadata": {},
   "outputs": [
    {
     "data": {
      "text/plain": [
       "False"
      ]
     },
     "execution_count": 41,
     "metadata": {},
     "output_type": "execute_result"
    }
   ],
   "source": [
    "False"
   ]
  },
  {
   "cell_type": "markdown",
   "metadata": {},
   "source": [
    "#### Operadores Lógicos "
   ]
  },
  {
   "cell_type": "markdown",
   "metadata": {},
   "source": [
    "![title](https://slideplayer.com.br/slide/3288719/11/images/10/Python+%2B+Soma+-+Subtra%C3%A7%C3%A3o+%2A+Multiplica%C3%A7%C3%A3o+%2F+Divis%C3%A3o+%2A%2A+Potencia%C3%A7%C3%A3o+%25.jpg)\n"
   ]
  },
  {
   "cell_type": "code",
   "execution_count": 42,
   "metadata": {},
   "outputs": [
    {
     "data": {
      "text/plain": [
       "False"
      ]
     },
     "execution_count": 42,
     "metadata": {},
     "output_type": "execute_result"
    }
   ],
   "source": [
    "1+1 == 2+2"
   ]
  },
  {
   "cell_type": "code",
   "execution_count": 43,
   "metadata": {},
   "outputs": [
    {
     "data": {
      "text/plain": [
       "True"
      ]
     },
     "execution_count": 43,
     "metadata": {},
     "output_type": "execute_result"
    }
   ],
   "source": [
    "1 != 0"
   ]
  },
  {
   "cell_type": "markdown",
   "metadata": {},
   "source": [
    "#### Listas e Dicionários"
   ]
  },
  {
   "cell_type": "code",
   "execution_count": 44,
   "metadata": {},
   "outputs": [
    {
     "data": {
      "text/plain": [
       "['maça', 'baba', 'pera']"
      ]
     },
     "execution_count": 44,
     "metadata": {},
     "output_type": "execute_result"
    }
   ],
   "source": [
    "#Lista\n",
    "[\"maça\", \"baba\", \"pera\"]"
   ]
  },
  {
   "cell_type": "code",
   "execution_count": 45,
   "metadata": {},
   "outputs": [
    {
     "data": {
      "text/plain": [
       "{'maça': 'futa', 'sapo': 'anfibio', 'macaco': 'mamifero'}"
      ]
     },
     "execution_count": 45,
     "metadata": {},
     "output_type": "execute_result"
    }
   ],
   "source": [
    "#Dicionário \n",
    "{\"maça\": \"futa\", \n",
    " \"sapo\": \"anfibio\",\n",
    " \"macaco\": \"mamifero\"\n",
    "}"
   ]
  },
  {
   "cell_type": "markdown",
   "metadata": {},
   "source": [
    "#### Print"
   ]
  },
  {
   "cell_type": "code",
   "execution_count": 46,
   "metadata": {},
   "outputs": [
    {
     "data": {
      "text/plain": [
       "2"
      ]
     },
     "execution_count": 46,
     "metadata": {},
     "output_type": "execute_result"
    }
   ],
   "source": [
    "1\n",
    "2"
   ]
  },
  {
   "cell_type": "code",
   "execution_count": 47,
   "metadata": {},
   "outputs": [
    {
     "name": "stdout",
     "output_type": "stream",
     "text": [
      "1\n",
      "2\n"
     ]
    }
   ],
   "source": [
    "print(1)\n",
    "print(2)"
   ]
  },
  {
   "cell_type": "markdown",
   "metadata": {},
   "source": [
    "#### Variável "
   ]
  },
  {
   "cell_type": "code",
   "execution_count": 48,
   "metadata": {},
   "outputs": [
    {
     "data": {
      "text/plain": [
       "'café'"
      ]
     },
     "execution_count": 48,
     "metadata": {},
     "output_type": "execute_result"
    }
   ],
   "source": [
    "x = 'café'\n",
    "x"
   ]
  },
  {
   "cell_type": "markdown",
   "metadata": {},
   "source": [
    "#### Instalando Libraries (bibliotecas)\n",
    "\n",
    "\n",
    "No terminar utilizar o **pip install nomeBiblioteca** / **conda install nomeBiblioteca**"
   ]
  },
  {
   "cell_type": "code",
   "execution_count": 49,
   "metadata": {},
   "outputs": [
    {
     "name": "stdout",
     "output_type": "stream",
     "text": [
      "Requirement already satisfied: numpy in c:\\users\\dalto\\anaconda3\\lib\\site-packages (1.18.5)\n"
     ]
    }
   ],
   "source": [
    "#Instalar direto no jupyter notebook\n",
    "!pip install numpy"
   ]
  },
  {
   "cell_type": "markdown",
   "metadata": {},
   "source": [
    "#### Importando Libraries "
   ]
  },
  {
   "cell_type": "code",
   "execution_count": 50,
   "metadata": {},
   "outputs": [],
   "source": [
    "#É usual ao importar uma biblioteca atribuir um apelido\n",
    "import pandas as pd # leitura, manipulação e visualização \n",
    "import numpy as np #manipulação de matrizes "
   ]
  },
  {
   "cell_type": "code",
   "execution_count": 51,
   "metadata": {},
   "outputs": [
    {
     "name": "stdout",
     "output_type": "stream",
     "text": [
      "[[ 0  1  2  3  4]\n",
      " [ 5  6  7  8  9]\n",
      " [10 11 12 13 14]]\n",
      "(3, 5)\n"
     ]
    }
   ],
   "source": [
    "#Exemplo\n",
    "a = np.arange(15).reshape(3, 5)\n",
    "print(a)\n",
    "print(a.shape)"
   ]
  },
  {
   "cell_type": "markdown",
   "metadata": {},
   "source": [
    "#### Funções"
   ]
  },
  {
   "cell_type": "code",
   "execution_count": 52,
   "metadata": {},
   "outputs": [],
   "source": [
    "def plus(a, b):\n",
    "    return a + b"
   ]
  },
  {
   "cell_type": "code",
   "execution_count": 53,
   "metadata": {},
   "outputs": [
    {
     "data": {
      "text/plain": [
       "2"
      ]
     },
     "execution_count": 53,
     "metadata": {},
     "output_type": "execute_result"
    }
   ],
   "source": [
    "plus(1, 1)"
   ]
  },
  {
   "cell_type": "markdown",
   "metadata": {},
   "source": [
    "# Executando R no Python "
   ]
  },
  {
   "cell_type": "code",
   "execution_count": 54,
   "metadata": {},
   "outputs": [],
   "source": [
    "#!conda install rpy2\n",
    "import rpy2.rinterface "
   ]
  },
  {
   "cell_type": "code",
   "execution_count": 55,
   "metadata": {},
   "outputs": [
    {
     "name": "stdout",
     "output_type": "stream",
     "text": [
      "The rpy2.ipython extension is already loaded. To reload it, use:\n",
      "  %reload_ext rpy2.ipython\n"
     ]
    }
   ],
   "source": [
    "%load_ext rpy2.ipython"
   ]
  },
  {
   "cell_type": "code",
   "execution_count": 56,
   "metadata": {},
   "outputs": [
    {
     "data": {
      "image/png": "[encoded data removed]"
     },
     "metadata": {},
     "output_type": "display_data"
    }
   ],
   "source": [
    "%%R\n",
    "\n",
    "x = c(1, 2, 3, 4, 4.5, 5)\n",
    "y = c(1, 2, 3, 4, 8, 16)\n",
    "plot(x, y)"
   ]
  },
  {
   "cell_type": "markdown",
   "metadata": {},
   "source": [
    "# Como Procurar Ajuda? "
   ]
  },
  {
   "cell_type": "markdown",
   "metadata": {},
   "source": [
    "- Documentação oficial\n",
    "- Tutoriais \n",
    "- Fóruns: https://stackoverflow.com/"
   ]
  },
  {
   "cell_type": "markdown",
   "metadata": {},
   "source": [
    "# Markdown \n",
    "\n",
    "O **Markdown** funciona como um conversor de texto para HTML"
   ]
  },
  {
   "attachments": {},
   "cell_type": "markdown",
   "metadata": {},
   "source": [
    "## Titulo 2\n",
    "\n",
    "### Titulo 3\n",
    "\n",
    "#### Titulo 4 \n",
    "\n",
    "\n",
    "\n",
    "- Lista\n",
    "- Lista\n",
    "* Outra lista\n",
    "* Outra lista\n",
    "\n",
    "\n",
    "*Italico*\n",
    "**Negrito**\n",
    "\n",
    "`print(\"alguma coisa\")`\n",
    "\n",
    "\n",
    "***\n",
    "\n",
    "Linhas para destacar alguma coisa importante\n",
    "\n",
    "***\n",
    "\n",
    "Você pode colocar hiperlinks <a href=\"http://earthdatascience.org\" target=\"_blank\">nesse link</a>.\n",
    "\n",
    "\n",
    "Você pode colocar imagens da web ou local:\n",
    "![imagem](https://lh3.googleusercontent.com/proxy/beQz8GWedvXvUMZqeloZmkrMFdbrJfNT04kM317P_SBIri6FxHaVlUX2On38KpTiEmCYGQ_AAzZaEeYJ392V8ST5ZPvbUy2s53h1c3N_u5oQ15t2pWgdkWeC36GI6TaAbjpUF870nE8u_KSO)"
   ]
  },
  {
   "cell_type": "markdown",
   "metadata": {},
   "source": [
    "# Exemplo Prático\n",
    "\n",
    "Dados do Kaggle: https://www.kaggle.com/lucasgreenwell/depression-anxiety-stress-scales-responses\n",
    "\n",
    "#### Lendo os Dados"
   ]
  },
  {
   "cell_type": "code",
   "execution_count": 57,
   "metadata": {},
   "outputs": [
    {
     "data": {
      "text/html": [
       "<div>\n",
       "<style scoped>\n",
       "    .dataframe tbody tr th:only-of-type {\n",
       "        vertical-align: middle;\n",
       "    }\n",
       "\n",
       "    .dataframe tbody tr th {\n",
       "        vertical-align: top;\n",
       "    }\n",
       "\n",
       "    .dataframe thead th {\n",
       "        text-align: right;\n",
       "    }\n",
       "</style>\n",
       "<table border=\"1\" class=\"dataframe\">\n",
       "  <thead>\n",
       "    <tr style=\"text-align: right;\">\n",
       "      <th></th>\n",
       "      <th>Q1A</th>\n",
       "      <th>Q1I</th>\n",
       "      <th>Q1E</th>\n",
       "      <th>Q2A</th>\n",
       "      <th>Q2I</th>\n",
       "      <th>Q2E</th>\n",
       "      <th>Q3A</th>\n",
       "      <th>Q3I</th>\n",
       "      <th>Q3E</th>\n",
       "      <th>Q4A</th>\n",
       "      <th>...</th>\n",
       "      <th>screensize</th>\n",
       "      <th>uniquenetworklocation</th>\n",
       "      <th>hand</th>\n",
       "      <th>religion</th>\n",
       "      <th>orientation</th>\n",
       "      <th>race</th>\n",
       "      <th>voted</th>\n",
       "      <th>married</th>\n",
       "      <th>familysize</th>\n",
       "      <th>major</th>\n",
       "    </tr>\n",
       "  </thead>\n",
       "  <tbody>\n",
       "    <tr>\n",
       "      <th>0</th>\n",
       "      <td>4</td>\n",
       "      <td>28</td>\n",
       "      <td>3890</td>\n",
       "      <td>4</td>\n",
       "      <td>25</td>\n",
       "      <td>2122</td>\n",
       "      <td>2</td>\n",
       "      <td>16</td>\n",
       "      <td>1944</td>\n",
       "      <td>4</td>\n",
       "      <td>...</td>\n",
       "      <td>1</td>\n",
       "      <td>1</td>\n",
       "      <td>1</td>\n",
       "      <td>12</td>\n",
       "      <td>1</td>\n",
       "      <td>10</td>\n",
       "      <td>2</td>\n",
       "      <td>1</td>\n",
       "      <td>2</td>\n",
       "      <td>NaN</td>\n",
       "    </tr>\n",
       "    <tr>\n",
       "      <th>1</th>\n",
       "      <td>4</td>\n",
       "      <td>2</td>\n",
       "      <td>8118</td>\n",
       "      <td>1</td>\n",
       "      <td>36</td>\n",
       "      <td>2890</td>\n",
       "      <td>2</td>\n",
       "      <td>35</td>\n",
       "      <td>4777</td>\n",
       "      <td>3</td>\n",
       "      <td>...</td>\n",
       "      <td>2</td>\n",
       "      <td>1</td>\n",
       "      <td>2</td>\n",
       "      <td>7</td>\n",
       "      <td>0</td>\n",
       "      <td>70</td>\n",
       "      <td>2</td>\n",
       "      <td>1</td>\n",
       "      <td>4</td>\n",
       "      <td>NaN</td>\n",
       "    </tr>\n",
       "    <tr>\n",
       "      <th>2</th>\n",
       "      <td>3</td>\n",
       "      <td>7</td>\n",
       "      <td>5784</td>\n",
       "      <td>1</td>\n",
       "      <td>33</td>\n",
       "      <td>4373</td>\n",
       "      <td>4</td>\n",
       "      <td>41</td>\n",
       "      <td>3242</td>\n",
       "      <td>1</td>\n",
       "      <td>...</td>\n",
       "      <td>2</td>\n",
       "      <td>1</td>\n",
       "      <td>1</td>\n",
       "      <td>4</td>\n",
       "      <td>3</td>\n",
       "      <td>60</td>\n",
       "      <td>1</td>\n",
       "      <td>1</td>\n",
       "      <td>3</td>\n",
       "      <td>NaN</td>\n",
       "    </tr>\n",
       "    <tr>\n",
       "      <th>3</th>\n",
       "      <td>2</td>\n",
       "      <td>23</td>\n",
       "      <td>5081</td>\n",
       "      <td>3</td>\n",
       "      <td>11</td>\n",
       "      <td>6837</td>\n",
       "      <td>2</td>\n",
       "      <td>37</td>\n",
       "      <td>5521</td>\n",
       "      <td>1</td>\n",
       "      <td>...</td>\n",
       "      <td>2</td>\n",
       "      <td>1</td>\n",
       "      <td>2</td>\n",
       "      <td>4</td>\n",
       "      <td>5</td>\n",
       "      <td>70</td>\n",
       "      <td>2</td>\n",
       "      <td>1</td>\n",
       "      <td>5</td>\n",
       "      <td>biology</td>\n",
       "    </tr>\n",
       "    <tr>\n",
       "      <th>4</th>\n",
       "      <td>2</td>\n",
       "      <td>36</td>\n",
       "      <td>3215</td>\n",
       "      <td>2</td>\n",
       "      <td>13</td>\n",
       "      <td>7731</td>\n",
       "      <td>3</td>\n",
       "      <td>5</td>\n",
       "      <td>4156</td>\n",
       "      <td>4</td>\n",
       "      <td>...</td>\n",
       "      <td>2</td>\n",
       "      <td>2</td>\n",
       "      <td>3</td>\n",
       "      <td>10</td>\n",
       "      <td>1</td>\n",
       "      <td>10</td>\n",
       "      <td>2</td>\n",
       "      <td>1</td>\n",
       "      <td>4</td>\n",
       "      <td>Psychology</td>\n",
       "    </tr>\n",
       "    <tr>\n",
       "      <th>...</th>\n",
       "      <td>...</td>\n",
       "      <td>...</td>\n",
       "      <td>...</td>\n",
       "      <td>...</td>\n",
       "      <td>...</td>\n",
       "      <td>...</td>\n",
       "      <td>...</td>\n",
       "      <td>...</td>\n",
       "      <td>...</td>\n",
       "      <td>...</td>\n",
       "      <td>...</td>\n",
       "      <td>...</td>\n",
       "      <td>...</td>\n",
       "      <td>...</td>\n",
       "      <td>...</td>\n",
       "      <td>...</td>\n",
       "      <td>...</td>\n",
       "      <td>...</td>\n",
       "      <td>...</td>\n",
       "      <td>...</td>\n",
       "      <td>...</td>\n",
       "    </tr>\n",
       "    <tr>\n",
       "      <th>39770</th>\n",
       "      <td>2</td>\n",
       "      <td>31</td>\n",
       "      <td>3287</td>\n",
       "      <td>1</td>\n",
       "      <td>5</td>\n",
       "      <td>2216</td>\n",
       "      <td>3</td>\n",
       "      <td>29</td>\n",
       "      <td>3895</td>\n",
       "      <td>2</td>\n",
       "      <td>...</td>\n",
       "      <td>2</td>\n",
       "      <td>1</td>\n",
       "      <td>1</td>\n",
       "      <td>2</td>\n",
       "      <td>4</td>\n",
       "      <td>60</td>\n",
       "      <td>2</td>\n",
       "      <td>1</td>\n",
       "      <td>2</td>\n",
       "      <td>NaN</td>\n",
       "    </tr>\n",
       "    <tr>\n",
       "      <th>39771</th>\n",
       "      <td>3</td>\n",
       "      <td>14</td>\n",
       "      <td>4792</td>\n",
       "      <td>4</td>\n",
       "      <td>41</td>\n",
       "      <td>2604</td>\n",
       "      <td>3</td>\n",
       "      <td>15</td>\n",
       "      <td>2668</td>\n",
       "      <td>4</td>\n",
       "      <td>...</td>\n",
       "      <td>1</td>\n",
       "      <td>1</td>\n",
       "      <td>1</td>\n",
       "      <td>10</td>\n",
       "      <td>0</td>\n",
       "      <td>10</td>\n",
       "      <td>2</td>\n",
       "      <td>1</td>\n",
       "      <td>4</td>\n",
       "      <td>Mathematic</td>\n",
       "    </tr>\n",
       "    <tr>\n",
       "      <th>39772</th>\n",
       "      <td>2</td>\n",
       "      <td>1</td>\n",
       "      <td>25147</td>\n",
       "      <td>1</td>\n",
       "      <td>4</td>\n",
       "      <td>4555</td>\n",
       "      <td>2</td>\n",
       "      <td>14</td>\n",
       "      <td>3388</td>\n",
       "      <td>1</td>\n",
       "      <td>...</td>\n",
       "      <td>2</td>\n",
       "      <td>1</td>\n",
       "      <td>1</td>\n",
       "      <td>7</td>\n",
       "      <td>1</td>\n",
       "      <td>30</td>\n",
       "      <td>1</td>\n",
       "      <td>2</td>\n",
       "      <td>3</td>\n",
       "      <td>Computer</td>\n",
       "    </tr>\n",
       "    <tr>\n",
       "      <th>39773</th>\n",
       "      <td>3</td>\n",
       "      <td>36</td>\n",
       "      <td>4286</td>\n",
       "      <td>1</td>\n",
       "      <td>34</td>\n",
       "      <td>2736</td>\n",
       "      <td>2</td>\n",
       "      <td>10</td>\n",
       "      <td>5968</td>\n",
       "      <td>2</td>\n",
       "      <td>...</td>\n",
       "      <td>2</td>\n",
       "      <td>1</td>\n",
       "      <td>1</td>\n",
       "      <td>6</td>\n",
       "      <td>1</td>\n",
       "      <td>60</td>\n",
       "      <td>1</td>\n",
       "      <td>1</td>\n",
       "      <td>2</td>\n",
       "      <td>History</td>\n",
       "    </tr>\n",
       "    <tr>\n",
       "      <th>39774</th>\n",
       "      <td>2</td>\n",
       "      <td>28</td>\n",
       "      <td>32251</td>\n",
       "      <td>1</td>\n",
       "      <td>22</td>\n",
       "      <td>3317</td>\n",
       "      <td>2</td>\n",
       "      <td>4</td>\n",
       "      <td>11734</td>\n",
       "      <td>1</td>\n",
       "      <td>...</td>\n",
       "      <td>1</td>\n",
       "      <td>1</td>\n",
       "      <td>1</td>\n",
       "      <td>10</td>\n",
       "      <td>1</td>\n",
       "      <td>10</td>\n",
       "      <td>1</td>\n",
       "      <td>1</td>\n",
       "      <td>4</td>\n",
       "      <td>Cognitive</td>\n",
       "    </tr>\n",
       "  </tbody>\n",
       "</table>\n",
       "<p>39775 rows × 172 columns</p>\n",
       "</div>"
      ],
      "text/plain": [
       "       Q1A  Q1I    Q1E  Q2A  Q2I   Q2E  Q3A  Q3I    Q3E  Q4A  ...  screensize  \\\n",
       "0        4   28   3890    4   25  2122    2   16   1944    4  ...           1   \n",
       "1        4    2   8118    1   36  2890    2   35   4777    3  ...           2   \n",
       "2        3    7   5784    1   33  4373    4   41   3242    1  ...           2   \n",
       "3        2   23   5081    3   11  6837    2   37   5521    1  ...           2   \n",
       "4        2   36   3215    2   13  7731    3    5   4156    4  ...           2   \n",
       "...    ...  ...    ...  ...  ...   ...  ...  ...    ...  ...  ...         ...   \n",
       "39770    2   31   3287    1    5  2216    3   29   3895    2  ...           2   \n",
       "39771    3   14   4792    4   41  2604    3   15   2668    4  ...           1   \n",
       "39772    2    1  25147    1    4  4555    2   14   3388    1  ...           2   \n",
       "39773    3   36   4286    1   34  2736    2   10   5968    2  ...           2   \n",
       "39774    2   28  32251    1   22  3317    2    4  11734    1  ...           1   \n",
       "\n",
       "       uniquenetworklocation  hand  religion  orientation  race  voted  \\\n",
       "0                          1     1        12            1    10      2   \n",
       "1                          1     2         7            0    70      2   \n",
       "2                          1     1         4            3    60      1   \n",
       "3                          1     2         4            5    70      2   \n",
       "4                          2     3        10            1    10      2   \n",
       "...                      ...   ...       ...          ...   ...    ...   \n",
       "39770                      1     1         2            4    60      2   \n",
       "39771                      1     1        10            0    10      2   \n",
       "39772                      1     1         7            1    30      1   \n",
       "39773                      1     1         6            1    60      1   \n",
       "39774                      1     1        10            1    10      1   \n",
       "\n",
       "       married  familysize       major  \n",
       "0            1           2         NaN  \n",
       "1            1           4         NaN  \n",
       "2            1           3         NaN  \n",
       "3            1           5     biology  \n",
       "4            1           4  Psychology  \n",
       "...        ...         ...         ...  \n",
       "39770        1           2         NaN  \n",
       "39771        1           4  Mathematic  \n",
       "39772        2           3    Computer  \n",
       "39773        1           2     History  \n",
       "39774        1           4   Cognitive  \n",
       "\n",
       "[39775 rows x 172 columns]"
      ]
     },
     "execution_count": 57,
     "metadata": {},
     "output_type": "execute_result"
    }
   ],
   "source": [
    "import pandas as pd\n",
    "\n",
    "banco = pd.read_csv('dass42.csv', delimiter=';')\n",
    "banco"
   ]
  },
  {
   "cell_type": "markdown",
   "metadata": {},
   "source": [
    "#### Recodificando Valores"
   ]
  },
  {
   "cell_type": "code",
   "execution_count": 58,
   "metadata": {},
   "outputs": [
    {
     "data": {
      "text/html": [
       "<div>\n",
       "<style scoped>\n",
       "    .dataframe tbody tr th:only-of-type {\n",
       "        vertical-align: middle;\n",
       "    }\n",
       "\n",
       "    .dataframe tbody tr th {\n",
       "        vertical-align: top;\n",
       "    }\n",
       "\n",
       "    .dataframe thead th {\n",
       "        text-align: right;\n",
       "    }\n",
       "</style>\n",
       "<table border=\"1\" class=\"dataframe\">\n",
       "  <thead>\n",
       "    <tr style=\"text-align: right;\">\n",
       "      <th></th>\n",
       "      <th>Q2A</th>\n",
       "      <th>Q5A</th>\n",
       "      <th>Q12A</th>\n",
       "      <th>Q13A</th>\n",
       "      <th>Q16A</th>\n",
       "      <th>Q17A</th>\n",
       "      <th>Q20A</th>\n",
       "      <th>Q23A</th>\n",
       "      <th>Q25A</th>\n",
       "      <th>Q26A</th>\n",
       "      <th>...</th>\n",
       "      <th>Q15A</th>\n",
       "      <th>Q18A</th>\n",
       "      <th>Q19A</th>\n",
       "      <th>Q24A</th>\n",
       "      <th>Q29A</th>\n",
       "      <th>Q30A</th>\n",
       "      <th>Q33A</th>\n",
       "      <th>Q35A</th>\n",
       "      <th>Q38A</th>\n",
       "      <th>Q39A</th>\n",
       "    </tr>\n",
       "  </thead>\n",
       "  <tbody>\n",
       "    <tr>\n",
       "      <th>0</th>\n",
       "      <td>3</td>\n",
       "      <td>3</td>\n",
       "      <td>3</td>\n",
       "      <td>3</td>\n",
       "      <td>3</td>\n",
       "      <td>3</td>\n",
       "      <td>3</td>\n",
       "      <td>3</td>\n",
       "      <td>3</td>\n",
       "      <td>3</td>\n",
       "      <td>...</td>\n",
       "      <td>3</td>\n",
       "      <td>3</td>\n",
       "      <td>3</td>\n",
       "      <td>3</td>\n",
       "      <td>3</td>\n",
       "      <td>2</td>\n",
       "      <td>2</td>\n",
       "      <td>3</td>\n",
       "      <td>2</td>\n",
       "      <td>3</td>\n",
       "    </tr>\n",
       "    <tr>\n",
       "      <th>1</th>\n",
       "      <td>1</td>\n",
       "      <td>3</td>\n",
       "      <td>2</td>\n",
       "      <td>3</td>\n",
       "      <td>3</td>\n",
       "      <td>3</td>\n",
       "      <td>1</td>\n",
       "      <td>1</td>\n",
       "      <td>2</td>\n",
       "      <td>3</td>\n",
       "      <td>...</td>\n",
       "      <td>3</td>\n",
       "      <td>2</td>\n",
       "      <td>1</td>\n",
       "      <td>2</td>\n",
       "      <td>3</td>\n",
       "      <td>3</td>\n",
       "      <td>3</td>\n",
       "      <td>2</td>\n",
       "      <td>2</td>\n",
       "      <td>2</td>\n",
       "    </tr>\n",
       "    <tr>\n",
       "      <th>2</th>\n",
       "      <td>1</td>\n",
       "      <td>3</td>\n",
       "      <td>1</td>\n",
       "      <td>3</td>\n",
       "      <td>3</td>\n",
       "      <td>3</td>\n",
       "      <td>1</td>\n",
       "      <td>2</td>\n",
       "      <td>2</td>\n",
       "      <td>1</td>\n",
       "      <td>...</td>\n",
       "      <td>3</td>\n",
       "      <td>2</td>\n",
       "      <td>2</td>\n",
       "      <td>3</td>\n",
       "      <td>2</td>\n",
       "      <td>2</td>\n",
       "      <td>1</td>\n",
       "      <td>3</td>\n",
       "      <td>3</td>\n",
       "      <td>2</td>\n",
       "    </tr>\n",
       "    <tr>\n",
       "      <th>3</th>\n",
       "      <td>3</td>\n",
       "      <td>3</td>\n",
       "      <td>1</td>\n",
       "      <td>1</td>\n",
       "      <td>2</td>\n",
       "      <td>3</td>\n",
       "      <td>2</td>\n",
       "      <td>1</td>\n",
       "      <td>1</td>\n",
       "      <td>2</td>\n",
       "      <td>...</td>\n",
       "      <td>2</td>\n",
       "      <td>1</td>\n",
       "      <td>1</td>\n",
       "      <td>1</td>\n",
       "      <td>3</td>\n",
       "      <td>3</td>\n",
       "      <td>2</td>\n",
       "      <td>1</td>\n",
       "      <td>1</td>\n",
       "      <td>3</td>\n",
       "    </tr>\n",
       "    <tr>\n",
       "      <th>4</th>\n",
       "      <td>2</td>\n",
       "      <td>3</td>\n",
       "      <td>3</td>\n",
       "      <td>3</td>\n",
       "      <td>3</td>\n",
       "      <td>3</td>\n",
       "      <td>3</td>\n",
       "      <td>3</td>\n",
       "      <td>3</td>\n",
       "      <td>3</td>\n",
       "      <td>...</td>\n",
       "      <td>3</td>\n",
       "      <td>3</td>\n",
       "      <td>3</td>\n",
       "      <td>2</td>\n",
       "      <td>2</td>\n",
       "      <td>3</td>\n",
       "      <td>3</td>\n",
       "      <td>3</td>\n",
       "      <td>3</td>\n",
       "      <td>3</td>\n",
       "    </tr>\n",
       "    <tr>\n",
       "      <th>...</th>\n",
       "      <td>...</td>\n",
       "      <td>...</td>\n",
       "      <td>...</td>\n",
       "      <td>...</td>\n",
       "      <td>...</td>\n",
       "      <td>...</td>\n",
       "      <td>...</td>\n",
       "      <td>...</td>\n",
       "      <td>...</td>\n",
       "      <td>...</td>\n",
       "      <td>...</td>\n",
       "      <td>...</td>\n",
       "      <td>...</td>\n",
       "      <td>...</td>\n",
       "      <td>...</td>\n",
       "      <td>...</td>\n",
       "      <td>...</td>\n",
       "      <td>...</td>\n",
       "      <td>...</td>\n",
       "      <td>...</td>\n",
       "      <td>...</td>\n",
       "    </tr>\n",
       "    <tr>\n",
       "      <th>39770</th>\n",
       "      <td>1</td>\n",
       "      <td>3</td>\n",
       "      <td>2</td>\n",
       "      <td>3</td>\n",
       "      <td>3</td>\n",
       "      <td>3</td>\n",
       "      <td>3</td>\n",
       "      <td>1</td>\n",
       "      <td>2</td>\n",
       "      <td>3</td>\n",
       "      <td>...</td>\n",
       "      <td>1</td>\n",
       "      <td>2</td>\n",
       "      <td>3</td>\n",
       "      <td>3</td>\n",
       "      <td>3</td>\n",
       "      <td>2</td>\n",
       "      <td>2</td>\n",
       "      <td>1</td>\n",
       "      <td>3</td>\n",
       "      <td>2</td>\n",
       "    </tr>\n",
       "    <tr>\n",
       "      <th>39771</th>\n",
       "      <td>3</td>\n",
       "      <td>3</td>\n",
       "      <td>3</td>\n",
       "      <td>3</td>\n",
       "      <td>3</td>\n",
       "      <td>3</td>\n",
       "      <td>3</td>\n",
       "      <td>3</td>\n",
       "      <td>3</td>\n",
       "      <td>3</td>\n",
       "      <td>...</td>\n",
       "      <td>3</td>\n",
       "      <td>3</td>\n",
       "      <td>3</td>\n",
       "      <td>3</td>\n",
       "      <td>3</td>\n",
       "      <td>3</td>\n",
       "      <td>3</td>\n",
       "      <td>3</td>\n",
       "      <td>3</td>\n",
       "      <td>3</td>\n",
       "    </tr>\n",
       "    <tr>\n",
       "      <th>39772</th>\n",
       "      <td>1</td>\n",
       "      <td>1</td>\n",
       "      <td>1</td>\n",
       "      <td>2</td>\n",
       "      <td>1</td>\n",
       "      <td>1</td>\n",
       "      <td>1</td>\n",
       "      <td>1</td>\n",
       "      <td>1</td>\n",
       "      <td>1</td>\n",
       "      <td>...</td>\n",
       "      <td>1</td>\n",
       "      <td>1</td>\n",
       "      <td>1</td>\n",
       "      <td>2</td>\n",
       "      <td>2</td>\n",
       "      <td>1</td>\n",
       "      <td>2</td>\n",
       "      <td>1</td>\n",
       "      <td>1</td>\n",
       "      <td>2</td>\n",
       "    </tr>\n",
       "    <tr>\n",
       "      <th>39773</th>\n",
       "      <td>1</td>\n",
       "      <td>3</td>\n",
       "      <td>3</td>\n",
       "      <td>3</td>\n",
       "      <td>1</td>\n",
       "      <td>2</td>\n",
       "      <td>2</td>\n",
       "      <td>1</td>\n",
       "      <td>1</td>\n",
       "      <td>3</td>\n",
       "      <td>...</td>\n",
       "      <td>1</td>\n",
       "      <td>3</td>\n",
       "      <td>1</td>\n",
       "      <td>2</td>\n",
       "      <td>3</td>\n",
       "      <td>1</td>\n",
       "      <td>3</td>\n",
       "      <td>3</td>\n",
       "      <td>2</td>\n",
       "      <td>3</td>\n",
       "    </tr>\n",
       "    <tr>\n",
       "      <th>39774</th>\n",
       "      <td>1</td>\n",
       "      <td>3</td>\n",
       "      <td>1</td>\n",
       "      <td>3</td>\n",
       "      <td>3</td>\n",
       "      <td>3</td>\n",
       "      <td>3</td>\n",
       "      <td>1</td>\n",
       "      <td>2</td>\n",
       "      <td>2</td>\n",
       "      <td>...</td>\n",
       "      <td>1</td>\n",
       "      <td>3</td>\n",
       "      <td>3</td>\n",
       "      <td>2</td>\n",
       "      <td>3</td>\n",
       "      <td>1</td>\n",
       "      <td>2</td>\n",
       "      <td>2</td>\n",
       "      <td>3</td>\n",
       "      <td>3</td>\n",
       "    </tr>\n",
       "  </tbody>\n",
       "</table>\n",
       "<p>39775 rows × 42 columns</p>\n",
       "</div>"
      ],
      "text/plain": [
       "       Q2A  Q5A  Q12A  Q13A  Q16A  Q17A  Q20A  Q23A  Q25A  Q26A  ...  Q15A  \\\n",
       "0        3    3     3     3     3     3     3     3     3     3  ...     3   \n",
       "1        1    3     2     3     3     3     1     1     2     3  ...     3   \n",
       "2        1    3     1     3     3     3     1     2     2     1  ...     3   \n",
       "3        3    3     1     1     2     3     2     1     1     2  ...     2   \n",
       "4        2    3     3     3     3     3     3     3     3     3  ...     3   \n",
       "...    ...  ...   ...   ...   ...   ...   ...   ...   ...   ...  ...   ...   \n",
       "39770    1    3     2     3     3     3     3     1     2     3  ...     1   \n",
       "39771    3    3     3     3     3     3     3     3     3     3  ...     3   \n",
       "39772    1    1     1     2     1     1     1     1     1     1  ...     1   \n",
       "39773    1    3     3     3     1     2     2     1     1     3  ...     1   \n",
       "39774    1    3     1     3     3     3     3     1     2     2  ...     1   \n",
       "\n",
       "       Q18A  Q19A  Q24A  Q29A  Q30A  Q33A  Q35A  Q38A  Q39A  \n",
       "0         3     3     3     3     2     2     3     2     3  \n",
       "1         2     1     2     3     3     3     2     2     2  \n",
       "2         2     2     3     2     2     1     3     3     2  \n",
       "3         1     1     1     3     3     2     1     1     3  \n",
       "4         3     3     2     2     3     3     3     3     3  \n",
       "...     ...   ...   ...   ...   ...   ...   ...   ...   ...  \n",
       "39770     2     3     3     3     2     2     1     3     2  \n",
       "39771     3     3     3     3     3     3     3     3     3  \n",
       "39772     1     1     2     2     1     2     1     1     2  \n",
       "39773     3     1     2     3     1     3     3     2     3  \n",
       "39774     3     3     2     3     1     2     2     3     3  \n",
       "\n",
       "[39775 rows x 42 columns]"
      ]
     },
     "execution_count": 58,
     "metadata": {},
     "output_type": "execute_result"
    }
   ],
   "source": [
    "dassCol = ['Q2A', 'Q5A', 'Q12A', 'Q13A', 'Q16A', 'Q17A', 'Q20A', 'Q23A', 'Q25A',\n",
    "       'Q26A', 'Q31A', 'Q32A', 'Q36A', 'Q41A', 'Q1A', 'Q6A', 'Q8A', 'Q10A',\n",
    "       'Q11A', 'Q14A', 'Q21A', 'Q22A', 'Q27A', 'Q28A', 'Q34A', 'Q37A', 'Q40A',\n",
    "       'Q42A', 'Q3A', 'Q4A', 'Q7A', 'Q9A', 'Q15A', 'Q18A', 'Q19A', 'Q24A',\n",
    "       'Q29A', 'Q30A', 'Q33A', 'Q35A', 'Q38A', 'Q39A']\n",
    "\n",
    "def mudarValores(x):\n",
    "    if x < 1:\n",
    "        return 0\n",
    "    if x < 2:\n",
    "        return 1\n",
    "    if x < 3:\n",
    "        return 2\n",
    "    return 3\n",
    "\n",
    "for col in dassCol:\n",
    "    banco[col] = banco[col].map(mudarValores)\n",
    "    \n",
    "banco[dassCol]"
   ]
  },
  {
   "cell_type": "markdown",
   "metadata": {},
   "source": [
    "#### Criando Categorias "
   ]
  },
  {
   "cell_type": "code",
   "execution_count": 59,
   "metadata": {},
   "outputs": [],
   "source": [
    "#Valores brutos por categorias (depressão, anseidade e estresse)\n",
    "\n",
    "# Depressão itens 2,5,12,13,16,17,20,23,25,26,31,32,36,41\n",
    "banco['depressao'] = banco[['Q2A', 'Q5A', 'Q12A', 'Q13A', 'Q16A', 'Q17A', 'Q20A', 'Q23A', 'Q25A', 'Q26A', 'Q31A', 'Q32A', 'Q36A', 'Q41A']].sum(axis=1)\n",
    "\n",
    "#ansiedade itens 1,6,8,10,11,14,21,22,27,28,34,37,40,42\n",
    "banco['ansiedade'] = banco[['Q1A', 'Q6A', 'Q8A', 'Q10A', 'Q11A', 'Q14A', 'Q21A', 'Q22A', 'Q27A', 'Q28A', 'Q34A', 'Q37A', 'Q40A', 'Q42A']].sum(axis=1)\n",
    "\n",
    "#estesse itens 3,4,7,9,15,18,19,24,29,30,33,35,38\n",
    "banco['estresse'] = banco[['Q3A', 'Q4A', 'Q7A', 'Q9A', 'Q15A', 'Q18A', 'Q19A', 'Q24A', 'Q29A', 'Q30A', 'Q33A', 'Q35A', 'Q38A', 'Q39A']].sum(axis=1)"
   ]
  },
  {
   "cell_type": "markdown",
   "metadata": {},
   "source": [
    "#### Criando labels "
   ]
  },
  {
   "cell_type": "code",
   "execution_count": 60,
   "metadata": {},
   "outputs": [],
   "source": [
    "def depreClass(x):\n",
    "    if x < 10:\n",
    "        return 'Normal'\n",
    "    if x < 14:\n",
    "        return 'Leve'\n",
    "    if x < 21:\n",
    "        return 'Moderado'\n",
    "    if x < 28:\n",
    "        return 'Severo'\n",
    "    return 'Extremamente_Severo'\n",
    "\n",
    "def ansiClass(x):\n",
    "    if x < 8:\n",
    "        return 'Normal'\n",
    "    if x < 10:\n",
    "        return 'Leve'\n",
    "    if x < 15:\n",
    "        return 'Moderado'\n",
    "    if x < 20:\n",
    "        return 'Severo'\n",
    "    return 'Extremamente_Severo'\n",
    "\n",
    "def estrClass(x):\n",
    "    if x < 15:\n",
    "        return 'Normal'\n",
    "    if x < 19:\n",
    "        return 'Leve'\n",
    "    if x < 25:\n",
    "        return 'Moderado'\n",
    "    if x < 34:\n",
    "        return 'Severo'\n",
    "    return 'Extremamente_Severo'\n"
   ]
  },
  {
   "cell_type": "code",
   "execution_count": 61,
   "metadata": {},
   "outputs": [],
   "source": [
    "banco['depressaoClas'] = banco['depressao'].map(depreClass)\n",
    "banco['ansiedadeClas'] = banco['ansiedade'].map(ansiClass)\n",
    "banco['estresseClas'] = banco['estresse'].map(estrClass)"
   ]
  },
  {
   "cell_type": "markdown",
   "metadata": {},
   "source": [
    "#### Visualizando os Dados"
   ]
  },
  {
   "cell_type": "code",
   "execution_count": 62,
   "metadata": {},
   "outputs": [
    {
     "data": {
      "text/plain": [
       "Text(0.5, 1.0, 'Estresse')"
      ]
     },
     "execution_count": 62,
     "metadata": {},
     "output_type": "execute_result"
    },
    {
     "data": {
      "image/png": "[encoded data removed]",
      "text/plain": [
       "<Figure size 864x288 with 3 Axes>"
      ]
     },
     "metadata": {
      "needs_background": "light"
     },
     "output_type": "display_data"
    }
   ],
   "source": [
    "import matplotlib.pyplot as plt\n",
    "plt.figure(figsize=(12, 4))\n",
    "\n",
    "ax = plt.subplot(1, 3, 1)\n",
    "banco['depressaoClas'].value_counts().plot(ax=ax, kind='bar')\n",
    "ax.set_title('Depressão')\n",
    "ax = plt.subplot(1, 3, 2)\n",
    "banco['ansiedadeClas'].value_counts().plot(ax=ax, kind='bar')\n",
    "ax.set_title('Ansiedade')\n",
    "ax = plt.subplot(1, 3, 3)\n",
    "banco['estresseClas'].value_counts().plot(ax=ax, kind='bar')\n",
    "ax.set_title('Estresse')"
   ]
  },
  {
   "cell_type": "markdown",
   "metadata": {},
   "source": [
    "#### Descrevendo os Dados"
   ]
  },
  {
   "cell_type": "code",
   "execution_count": 63,
   "metadata": {},
   "outputs": [
    {
     "data": {
      "text/plain": [
       "count    39775.000000\n",
       "mean        31.703658\n",
       "std          7.510469\n",
       "min         14.000000\n",
       "25%         26.000000\n",
       "50%         33.000000\n",
       "75%         38.000000\n",
       "max         42.000000\n",
       "Name: ansiedade, dtype: float64"
      ]
     },
     "execution_count": 63,
     "metadata": {},
     "output_type": "execute_result"
    }
   ],
   "source": [
    "import pandas as pd\n",
    "banco['ansiedade'].describe()"
   ]
  }
 ],
 "metadata": {
  "kernelspec": {
   "display_name": "Python 3",
   "language": "python",
   "name": "python3"
  },
  "language_info": {
   "codemirror_mode": {
    "name": "ipython",
    "version": 3
   },
   "file_extension": ".py",
   "mimetype": "text/x-python",
   "name": "python",
   "nbconvert_exporter": "python",
   "pygments_lexer": "ipython3",
   "version": "3.7.3"
  }
 },
 "nbformat": 4,
 "nbformat_minor": 4
}
